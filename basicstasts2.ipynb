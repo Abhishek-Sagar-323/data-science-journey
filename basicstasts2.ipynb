{
  "nbformat": 4,
  "nbformat_minor": 0,
  "metadata": {
    "colab": {
      "provenance": []
    },
    "kernelspec": {
      "name": "python3",
      "display_name": "Python 3"
    },
    "language_info": {
      "name": "python"
    }
  },
  "cells": [
    {
      "cell_type": "markdown",
      "source": [
        "# Estimation And Confidence Intervals"
      ],
      "metadata": {
        "id": "n9tejN5YbGrU"
      }
    },
    {
      "cell_type": "markdown",
      "source": [
        "# Data\n",
        "A total of 15 print-heads were randomly selected and tested until failure. The durability of each print-head (in millions of characters) was recorded as follows:\n",
        "1.13, 1.55, 1.43, 0.92, 1.25, 1.36, 1.32, 0.85, 1.07, 1.48, 1.20, 1.33, 1.18, 1.22, 1.29\n"
      ],
      "metadata": {
        "id": "YOoENLZecIhf"
      }
    },
    {
      "cell_type": "code",
      "execution_count": 2,
      "metadata": {
        "colab": {
          "base_uri": "https://localhost:8080/"
        },
        "id": "NngQIad3ZbO1",
        "outputId": "a8f6f9f3-e4af-4d8f-c6e0-5a47b4b18ae8"
      },
      "outputs": [
        {
          "output_type": "stream",
          "name": "stdout",
          "text": [
            "=== Durability Data Summary ===\n",
            "Sample size (n): 15\n",
            "Mean durability: 1.239 million characters\n",
            "Standard deviation: 0.193 million characters\n"
          ]
        }
      ],
      "source": [
        "import numpy as np\n",
        "from scipy import stats\n",
        "\n",
        "# Durability data in millions of characters\n",
        "durability = [1.13, 1.55, 1.43, 0.92, 1.25, 1.36, 1.32, 0.85, 1.07,\n",
        "              1.48, 1.20, 1.33, 1.18, 1.22, 1.29]\n",
        "\n",
        "# Convert to numpy array for easy math\n",
        "durability_array = np.array(durability)\n",
        "\n",
        "# Basic statistics\n",
        "sample_size = len(durability_array)\n",
        "sample_mean = np.mean(durability_array)\n",
        "sample_std = np.std(durability_array, ddof=1)  # Sample standard deviation\n",
        "\n",
        "# Output results\n",
        "print(\"=== Durability Data Summary ===\")\n",
        "print(f\"Sample size (n): {sample_size}\")\n",
        "print(f\"Mean durability: {sample_mean:.3f} million characters\")\n",
        "print(f\"Standard deviation: {sample_std:.3f} million characters\")"
      ]
    },
    {
      "cell_type": "markdown",
      "source": [
        "# a. Build 99% Confidence Interval Using Sample Standard Deviation"
      ],
      "metadata": {
        "id": "9ur0KzO9c2Fx"
      }
    },
    {
      "cell_type": "code",
      "source": [
        "# degrees of freedom\n",
        "df = sample_size-1\n",
        "\n",
        "# Confidence level\n",
        "confidence = 0.99\n",
        "alpha = 1 - confidence\n",
        "\n",
        "# t-critical value\n",
        "t_critical = stats.t.ppf(1 - alpha/2, df)\n",
        "\n",
        "# Margin of error\n",
        "margin_of_error = t_critical * (sample_std / np.sqrt(sample_size))\n",
        "\n",
        "# Confidence interval\n",
        "lower_limit = sample_mean - margin_of_error\n",
        "upper_limit = sample_mean + margin_of_error\n",
        "\n",
        "# Print results\n",
        "print(\"=== 99% Confidence Interval ===\")\n",
        "print(f\"Degrees of Freedom: {df}\")\n",
        "print(f\"t-Critical Value: {t_critical:.4f}\")\n",
        "print(f\"Margin of Error: {margin_of_error:.4f}\")\n",
        "print(f\"Confidence Interval: ({lower_limit:.3f}, {upper_limit:.3f})\")"
      ],
      "metadata": {
        "colab": {
          "base_uri": "https://localhost:8080/"
        },
        "id": "nsXpYR0Kdox7",
        "outputId": "144b6ff5-38ad-4d34-bf8b-a93f5706d87f"
      },
      "execution_count": 4,
      "outputs": [
        {
          "output_type": "stream",
          "name": "stdout",
          "text": [
            "=== 99% Confidence Interval ===\n",
            "Degrees of Freedom: 14\n",
            "t-Critical Value: 2.9768\n",
            "Margin of Error: 0.1485\n",
            "Confidence Interval: (1.090, 1.387)\n"
          ]
        }
      ]
    },
    {
      "cell_type": "markdown",
      "source": [
        "# b. Build 99% Confidence Interval Using Known Population Standard Deviation\n",
        "If it were known that the population standard deviation is 0.2 million characters, construct a 99% confidence interval for the mean number of characters printed before failure."
      ],
      "metadata": {
        "id": "4ijKy3bdecZc"
      }
    },
    {
      "cell_type": "code",
      "source": [
        "# Known values\n",
        "sigma = 0.2  # known population standard deviation\n",
        "n = len(durability)\n",
        "sample_mean = np.mean(durability)\n",
        "\n",
        "# Z-critical value for 99% confidence\n",
        "z_critical = stats.norm.ppf(1 - 0.01/2)\n",
        "\n",
        "# Margin of error\n",
        "margin_of_error = z_critical * (sigma / np.sqrt(n))\n",
        "\n",
        "# Confidence interval\n",
        "lower_bound = sample_mean - margin_of_error\n",
        "upper_bound = sample_mean + margin_of_error\n",
        "\n",
        "# Display results\n",
        "print(\"=== 99% Confidence Interval Using Known σ ===\")\n",
        "print(f\"Sample Mean: {sample_mean:.3f}\")\n",
        "print(f\"Z-Critical Value: {z_critical:.3f}\")\n",
        "print(f\"Margin of Error: {margin_of_error:.3f}\")\n",
        "print(f\"Confidence Interval: ({lower_bound:.3f}, {upper_bound:.3f})\")"
      ],
      "metadata": {
        "colab": {
          "base_uri": "https://localhost:8080/"
        },
        "id": "KQPVCtBAekMb",
        "outputId": "fe3c8360-350e-4c58-e295-cf8cec6e5fff"
      },
      "execution_count": 5,
      "outputs": [
        {
          "output_type": "stream",
          "name": "stdout",
          "text": [
            "=== 99% Confidence Interval Using Known σ ===\n",
            "Sample Mean: 1.239\n",
            "Z-Critical Value: 2.576\n",
            "Margin of Error: 0.133\n",
            "Confidence Interval: (1.106, 1.372)\n"
          ]
        }
      ]
    },
    {
      "cell_type": "markdown",
      "source": [
        "# conclusion"
      ],
      "metadata": {
        "id": "KV_tU-o-gI2G"
      }
    },
    {
      "cell_type": "markdown",
      "source": [
        "Both intervals are centered around the same mean, showing consistency in your sample estimate.\n",
        "\n",
        "\"We are 99% confident that the true mean durability of print-heads lies within the given interval.\""
      ],
      "metadata": {
        "id": "x0Di-vevg1PB"
      }
    }
  ]
}