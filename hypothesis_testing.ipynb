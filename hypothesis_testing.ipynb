{
  "nbformat": 4,
  "nbformat_minor": 0,
  "metadata": {
    "colab": {
      "provenance": []
    },
    "kernelspec": {
      "name": "python3",
      "display_name": "Python 3"
    },
    "language_info": {
      "name": "python"
    }
  },
  "cells": [
    {
      "cell_type": "markdown",
      "source": [
        "# HYPOTHESIS TESTING"
      ],
      "metadata": {
        "id": "NBgxqauP4w4v"
      }
    },
    {
      "cell_type": "markdown",
      "source": [
        "**Data Provided:**\n",
        "•\tThe theoretical weekly operating cost model: W = $1,000 + $5X\n",
        "•\tSample of 25 restaurants with a mean weekly cost of Rs. 3,050\n",
        "•\tNumber of units produced in a week (X) follows a normal distribution with a mean (μ) of 600 units and a standard deviation (σ) of 25 units\n"
      ],
      "metadata": {
        "id": "F0J3LX5l40Ue"
      }
    },
    {
      "cell_type": "markdown",
      "source": [
        "# 1.State the Hypotheses statement:\n"
      ],
      "metadata": {
        "id": "cliP3V3d57VV"
      }
    },
    {
      "cell_type": "markdown",
      "source": [
        "Null Hypothesis (H₀):\n",
        "The current cost formula is correct. The weekly cost to run a franchise is $1,000 plus $5 for each unit produced.\n",
        "\n",
        "Alternative Hypothesis (H₁):\n",
        "The current cost formula is not correct. The real weekly costs are different from $1,000 plus $5 per unit."
      ],
      "metadata": {
        "id": "yaNeZzeE6D6J"
      }
    },
    {
      "cell_type": "markdown",
      "source": [
        "# 2. Calculate the Test Statistic:"
      ],
      "metadata": {
        "id": "6ajciF6h7ohU"
      }
    },
    {
      "cell_type": "code",
      "execution_count": 20,
      "metadata": {
        "id": "W1oGDnAe5bIX",
        "colab": {
          "base_uri": "https://localhost:8080/"
        },
        "outputId": "0502701a-f90d-470c-80d7-b365fc8eeb1a"
      },
      "outputs": [
        {
          "output_type": "stream",
          "name": "stdout",
          "text": [
            "lower limit 2998.4025359592997\n",
            "upper limit 3101.5974640407003\n",
            "T-statistic: -38.0\n",
            "Degrees of freedom: 24\n",
            "P-value: 0.0\n",
            "Result: Reject the null hypothesis (significant difference).\n"
          ]
        }
      ],
      "source": [
        "import scipy.stats as stats\n",
        "import numpy as np\n",
        "\n",
        "# Given values\n",
        "sample_mean = 3050         # x̄\n",
        "theoretical_mean = 4000    # μ\n",
        "std_dev = 5 * 25           # σ = 5 * standard deviation of X\n",
        "n = 25                     # Sample size\n",
        "confidence = 0.95          # Confidence level\n",
        "\n",
        "# Calculate the standard error\n",
        "\n",
        "std_error = std_dev / np.sqrt(n)\n",
        "\n",
        "# Calculate the t-statistic\n",
        "t_stat = (sample_mean - theoretical_mean) / std_error\n",
        "\n",
        "t_critical = stats.t.ppf((1 + confidence) / 2, df=n - 1)\n",
        "\n",
        "margin_of_error = t_critical * std_error\n",
        "\n",
        "# Calculate the degrees of freedom\n",
        "df = n - 1\n",
        "# printing lower limit and upper limit\n",
        "print(\"lower limit\",sample_mean-margin_of_error)\n",
        "print(\"upper limit\",sample_mean+margin_of_error)\n",
        "# calculate the p value\n",
        "p_value = (1 - stats.t.cdf(abs(t_stat), df))*2\n",
        "# Print results\n",
        "print(f\"T-statistic: {t_stat}\")\n",
        "print(f\"Degrees of freedom: {df}\")\n",
        "print(f\"P-value: {p_value}\")\n",
        "\n",
        "# Interpretation\n",
        "if p_value < 0.05:\n",
        "    print(\"Result: Reject the null hypothesis (significant difference).\")\n",
        "else:\n",
        "    print(\"Result: Fail to reject the null hypothesis (no significant difference).\")"
      ]
    },
    {
      "cell_type": "markdown",
      "source": [
        "**We reject the null hypothesis.**\n",
        "\n",
        "The data provides strong evidence that the actual weekly operating cost is significantly different from ₹4,000 — in fact, it is much lower. Therefore, the cost model is incorrect for current conditions."
      ],
      "metadata": {
        "id": "iqGuUFP0HKkh"
      }
    },
    {
      "cell_type": "markdown",
      "source": [
        "# 3. Determine the Critical Value:\n",
        "Using the alpha level of 5% (α = 0.05), determine the critical value from the standard normal (Z) distribution table."
      ],
      "metadata": {
        "id": "htWrQCNWH5WH"
      }
    },
    {
      "cell_type": "code",
      "source": [
        "# Given alpha level\n",
        "alpha = 0.05\n",
        "\n",
        "# Calculate the critical value for a two-tailed test\n",
        "z_critical = stats.norm.ppf(1 - alpha / 2)\n",
        "\n",
        "print(f\"Z-critical value for α = 0.05 (two-tailed): ±{z_critical:.2f}\")\n",
        "# calculation of z score\n",
        "z_score = (sample_mean - theoretical_mean) / (std_dev / np.sqrt(n))\n",
        "print(\"Z-score:\", z_score)"
      ],
      "metadata": {
        "colab": {
          "base_uri": "https://localhost:8080/"
        },
        "id": "4hB6SRvcIB4b",
        "outputId": "6c7b8526-610e-4d54-96b0-494b650cc973"
      },
      "execution_count": 22,
      "outputs": [
        {
          "output_type": "stream",
          "name": "stdout",
          "text": [
            "Z-critical value for α = 0.05 (two-tailed): ±1.96\n",
            "Z-score: -38.0\n"
          ]
        }
      ]
    },
    {
      "cell_type": "markdown",
      "source": [
        "# 4. Make a Decision:"
      ],
      "metadata": {
        "id": "aMbMm8KcJECK"
      }
    },
    {
      "cell_type": "markdown",
      "source": [
        "If the calculated Z-value is less than –1.96 or greater than +1.96, we reject the null hypothesis (H₀).\n",
        "\n",
        "Since:\n",
        "Z=−38.0<−1.96,\n",
        "we reject the null hypothesis."
      ],
      "metadata": {
        "id": "JK9fK5Z2JGNW"
      }
    },
    {
      "cell_type": "markdown",
      "source": [
        "# CHI-SQUARE TEST"
      ],
      "metadata": {
        "id": "JlUk7k6RJ4lC"
      }
    },
    {
      "cell_type": "markdown",
      "source": [
        "# 1. State the Hypotheses:"
      ],
      "metadata": {
        "id": "oklF2WANJ_65"
      }
    },
    {
      "cell_type": "markdown",
      "source": [
        "Null Hypothesis (H₀):\n",
        "The type of smart home device a customer buys does not affect how satisfied they are.\n",
        "(Customer satisfaction is independent of the device type.)\n",
        "\n",
        "Alternative Hypothesis (H₁):\n",
        "The type of smart home device a customer buys does affect how satisfied they are.\n",
        "(Customer satisfaction is related to the device type.)"
      ],
      "metadata": {
        "id": "MS9fp9lAK6YY"
      }
    },
    {
      "cell_type": "markdown",
      "source": [
        "# Compute the Chi-Square Statistic:"
      ],
      "metadata": {
        "id": "YATODpJRMS7-"
      }
    },
    {
      "cell_type": "code",
      "source": [
        "import scipy.stats as stats\n",
        "import pandas as pd\n",
        "\n",
        "# Create the observed data (contingency table)\n",
        "# Each row represents a satisfaction level\n",
        "# Each column represents a device type: Smart Thermostat or Smart Light\n",
        "\n",
        "observed_data = [\n",
        "    [50, 70],   # Very Satisfied\n",
        "    [80, 100],  # Satisfied\n",
        "    [60, 90],   # Neutral\n",
        "    [30, 50],   # Unsatisfied\n",
        "    [20, 50]    # Very Unsatisfied\n",
        "]\n",
        "\n",
        "# Define labels for clarity\n",
        "satisfaction_levels = [\"Very Satisfied\", \"Satisfied\", \"Neutral\", \"Unsatisfied\", \"Very Unsatisfied\"]\n",
        "device_types = [\"Smart Thermostat\", \"Smart Light\"]\n",
        "\n",
        "# Perform the Chi-Square Test of Independence\n",
        "chi2 = stats.chi2_contingency(observed_data)[0]\n",
        "p_value = stats.chi2_contingency(observed_data)[1]\n",
        "expected_data = stats.chi2_contingency(observed_data)[3]\n",
        "# Convert expected data into a DataFrame for better display\n",
        "data_present = pd.DataFrame(observed_data, index=satisfaction_levels, columns=device_types)\n",
        "data_expected = pd.DataFrame(expected_data, index=satisfaction_levels, columns=device_types)\n",
        "# Display expected frequencies\n",
        "print(\"\\ndata present in tables:\")\n",
        "print(data_present.round(2))\n",
        "print(\"\\nObserved Frequencies Table :\")\n",
        "print(data_expected.round(2))\n",
        "\n",
        "#  Print the results\n",
        "print(\"=== Chi-Square Test of Independence ===\")\n",
        "print(f\"Chi-square statistic      : {chi2:.2f}\")\n",
        "print(f\"P-value                   : {p_value:.4f}\")\n",
        "\n",
        "# Decision rule at alpha = 0.05\n",
        "alpha = 0.05\n",
        "if p_value < alpha:\n",
        "    print(\"\\nConclusion: Reject the null hypothesis.\")\n",
        "    print(\"There IS a significant association between device type and satisfaction level.\")\n",
        "else:\n",
        "    print(\"\\nConclusion: Fail to reject the null hypothesis.\")\n",
        "    print(\"There is NO significant association between device type and satisfaction level.\")\n",
        "\n"
      ],
      "metadata": {
        "colab": {
          "base_uri": "https://localhost:8080/"
        },
        "id": "vd70bRqnMTrV",
        "outputId": "9a0d0cfc-1aa7-4144-a2f8-bb4779af35f9"
      },
      "execution_count": 35,
      "outputs": [
        {
          "output_type": "stream",
          "name": "stdout",
          "text": [
            "\n",
            "Expected Frequencies Table :\n",
            "                  Smart Thermostat  Smart Light\n",
            "Very Satisfied                  50           70\n",
            "Satisfied                       80          100\n",
            "Neutral                         60           90\n",
            "Unsatisfied                     30           50\n",
            "Very Unsatisfied                20           50\n",
            "\n",
            "Observed Frequencies Table :\n",
            "                  Smart Thermostat  Smart Light\n",
            "Very Satisfied                48.0         72.0\n",
            "Satisfied                     72.0        108.0\n",
            "Neutral                       60.0         90.0\n",
            "Unsatisfied                   32.0         48.0\n",
            "Very Unsatisfied              28.0         42.0\n",
            "=== Chi-Square Test of Independence ===\n",
            "Chi-square statistic      : 5.64\n",
            "P-value                   : 0.2278\n",
            "\n",
            "Conclusion: Fail to reject the null hypothesis.\n",
            "There is NO significant association between device type and satisfaction level.\n"
          ]
        }
      ]
    },
    {
      "cell_type": "markdown",
      "source": [
        "# Determine the Critical Value:"
      ],
      "metadata": {
        "id": "5GTzrMLCWZBx"
      }
    },
    {
      "cell_type": "code",
      "source": [
        "from scipy.stats import chi2\n",
        "alpha = 0.05\n",
        "df = 4\n",
        "critical_value = chi2.ppf(1 - alpha, df)\n",
        "print(f\"Critical value at α = {alpha} and df = {df} is: {critical_value:.4f}\")"
      ],
      "metadata": {
        "colab": {
          "base_uri": "https://localhost:8080/"
        },
        "id": "hNOmrXlpWmTd",
        "outputId": "c9cedc39-280b-43f2-9a45-6e4260d87d8a"
      },
      "execution_count": 37,
      "outputs": [
        {
          "output_type": "stream",
          "name": "stdout",
          "text": [
            "Critical value at α = 0.05 and df = 4 is: 9.4877\n"
          ]
        }
      ]
    },
    {
      "cell_type": "markdown",
      "source": [
        "Chi-Square test statistic is less compared to Critical value so it Failed to reject the null hypothesis."
      ],
      "metadata": {
        "id": "HxmXSlQrXf5g"
      }
    },
    {
      "cell_type": "markdown",
      "source": [
        "# Make a Decision:"
      ],
      "metadata": {
        "id": "G2Ar3q0HYtkj"
      }
    },
    {
      "cell_type": "markdown",
      "source": [
        "Because:\n",
        "\n",
        "Chi-Square Statistic (5.64)\n",
        "<\n",
        "Critical Value (9.488)\n",
        "\n",
        "\n",
        "OR\n",
        "\n",
        "p-value (0.2278)\n",
        ">\n",
        "α (0.05)\n",
        "\n",
        "We fail to reject the null hypothesis."
      ],
      "metadata": {
        "id": "6cz645vDYwg2"
      }
    }
  ]
}