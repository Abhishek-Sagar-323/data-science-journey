{
  "nbformat": 4,
  "nbformat_minor": 0,
  "metadata": {
    "colab": {
      "provenance": []
    },
    "kernelspec": {
      "name": "python3",
      "display_name": "Python 3"
    },
    "language_info": {
      "name": "python"
    }
  },
  "cells": [
    {
      "cell_type": "code",
      "execution_count": null,
      "metadata": {
        "id": "ESbscyVTYS2f"
      },
      "outputs": [],
      "source": [
        "import pandas as pd\n",
        "import numpy as np\n",
        "import matplotlib.pyplot as plt\n",
        "import seaborn as sns\n",
        "import warnings\n",
        "warnings.filterwarnings('ignore')"
      ]
    },
    {
      "cell_type": "code",
      "source": [
        "df = pd.read_csv('/content/anime.csv')\n",
        "df.head()"
      ],
      "metadata": {
        "colab": {
          "base_uri": "https://localhost:8080/",
          "height": 206
        },
        "id": "hbknZy_hYisZ",
        "outputId": "4ee3e6f0-a11e-42ba-ca3c-b11cd352034a"
      },
      "execution_count": null,
      "outputs": [
        {
          "output_type": "execute_result",
          "data": {
            "text/plain": [
              "   anime_id                              name  \\\n",
              "0     32281                    Kimi no Na wa.   \n",
              "1      5114  Fullmetal Alchemist: Brotherhood   \n",
              "2     28977                          Gintama°   \n",
              "3      9253                       Steins;Gate   \n",
              "4      9969                     Gintama&#039;   \n",
              "\n",
              "                                               genre   type episodes  rating  \\\n",
              "0               Drama, Romance, School, Supernatural  Movie        1    9.37   \n",
              "1  Action, Adventure, Drama, Fantasy, Magic, Mili...     TV       64    9.26   \n",
              "2  Action, Comedy, Historical, Parody, Samurai, S...     TV       51    9.25   \n",
              "3                                   Sci-Fi, Thriller     TV       24    9.17   \n",
              "4  Action, Comedy, Historical, Parody, Samurai, S...     TV       51    9.16   \n",
              "\n",
              "   members  \n",
              "0   200630  \n",
              "1   793665  \n",
              "2   114262  \n",
              "3   673572  \n",
              "4   151266  "
            ],
            "text/html": [
              "\n",
              "  <div id=\"df-01062811-e2ba-4044-807c-60c011c7bdaa\" class=\"colab-df-container\">\n",
              "    <div>\n",
              "<style scoped>\n",
              "    .dataframe tbody tr th:only-of-type {\n",
              "        vertical-align: middle;\n",
              "    }\n",
              "\n",
              "    .dataframe tbody tr th {\n",
              "        vertical-align: top;\n",
              "    }\n",
              "\n",
              "    .dataframe thead th {\n",
              "        text-align: right;\n",
              "    }\n",
              "</style>\n",
              "<table border=\"1\" class=\"dataframe\">\n",
              "  <thead>\n",
              "    <tr style=\"text-align: right;\">\n",
              "      <th></th>\n",
              "      <th>anime_id</th>\n",
              "      <th>name</th>\n",
              "      <th>genre</th>\n",
              "      <th>type</th>\n",
              "      <th>episodes</th>\n",
              "      <th>rating</th>\n",
              "      <th>members</th>\n",
              "    </tr>\n",
              "  </thead>\n",
              "  <tbody>\n",
              "    <tr>\n",
              "      <th>0</th>\n",
              "      <td>32281</td>\n",
              "      <td>Kimi no Na wa.</td>\n",
              "      <td>Drama, Romance, School, Supernatural</td>\n",
              "      <td>Movie</td>\n",
              "      <td>1</td>\n",
              "      <td>9.37</td>\n",
              "      <td>200630</td>\n",
              "    </tr>\n",
              "    <tr>\n",
              "      <th>1</th>\n",
              "      <td>5114</td>\n",
              "      <td>Fullmetal Alchemist: Brotherhood</td>\n",
              "      <td>Action, Adventure, Drama, Fantasy, Magic, Mili...</td>\n",
              "      <td>TV</td>\n",
              "      <td>64</td>\n",
              "      <td>9.26</td>\n",
              "      <td>793665</td>\n",
              "    </tr>\n",
              "    <tr>\n",
              "      <th>2</th>\n",
              "      <td>28977</td>\n",
              "      <td>Gintama°</td>\n",
              "      <td>Action, Comedy, Historical, Parody, Samurai, S...</td>\n",
              "      <td>TV</td>\n",
              "      <td>51</td>\n",
              "      <td>9.25</td>\n",
              "      <td>114262</td>\n",
              "    </tr>\n",
              "    <tr>\n",
              "      <th>3</th>\n",
              "      <td>9253</td>\n",
              "      <td>Steins;Gate</td>\n",
              "      <td>Sci-Fi, Thriller</td>\n",
              "      <td>TV</td>\n",
              "      <td>24</td>\n",
              "      <td>9.17</td>\n",
              "      <td>673572</td>\n",
              "    </tr>\n",
              "    <tr>\n",
              "      <th>4</th>\n",
              "      <td>9969</td>\n",
              "      <td>Gintama&amp;#039;</td>\n",
              "      <td>Action, Comedy, Historical, Parody, Samurai, S...</td>\n",
              "      <td>TV</td>\n",
              "      <td>51</td>\n",
              "      <td>9.16</td>\n",
              "      <td>151266</td>\n",
              "    </tr>\n",
              "  </tbody>\n",
              "</table>\n",
              "</div>\n",
              "    <div class=\"colab-df-buttons\">\n",
              "\n",
              "  <div class=\"colab-df-container\">\n",
              "    <button class=\"colab-df-convert\" onclick=\"convertToInteractive('df-01062811-e2ba-4044-807c-60c011c7bdaa')\"\n",
              "            title=\"Convert this dataframe to an interactive table.\"\n",
              "            style=\"display:none;\">\n",
              "\n",
              "  <svg xmlns=\"http://www.w3.org/2000/svg\" height=\"24px\" viewBox=\"0 -960 960 960\">\n",
              "    <path d=\"M120-120v-720h720v720H120Zm60-500h600v-160H180v160Zm220 220h160v-160H400v160Zm0 220h160v-160H400v160ZM180-400h160v-160H180v160Zm440 0h160v-160H620v160ZM180-180h160v-160H180v160Zm440 0h160v-160H620v160Z\"/>\n",
              "  </svg>\n",
              "    </button>\n",
              "\n",
              "  <style>\n",
              "    .colab-df-container {\n",
              "      display:flex;\n",
              "      gap: 12px;\n",
              "    }\n",
              "\n",
              "    .colab-df-convert {\n",
              "      background-color: #E8F0FE;\n",
              "      border: none;\n",
              "      border-radius: 50%;\n",
              "      cursor: pointer;\n",
              "      display: none;\n",
              "      fill: #1967D2;\n",
              "      height: 32px;\n",
              "      padding: 0 0 0 0;\n",
              "      width: 32px;\n",
              "    }\n",
              "\n",
              "    .colab-df-convert:hover {\n",
              "      background-color: #E2EBFA;\n",
              "      box-shadow: 0px 1px 2px rgba(60, 64, 67, 0.3), 0px 1px 3px 1px rgba(60, 64, 67, 0.15);\n",
              "      fill: #174EA6;\n",
              "    }\n",
              "\n",
              "    .colab-df-buttons div {\n",
              "      margin-bottom: 4px;\n",
              "    }\n",
              "\n",
              "    [theme=dark] .colab-df-convert {\n",
              "      background-color: #3B4455;\n",
              "      fill: #D2E3FC;\n",
              "    }\n",
              "\n",
              "    [theme=dark] .colab-df-convert:hover {\n",
              "      background-color: #434B5C;\n",
              "      box-shadow: 0px 1px 3px 1px rgba(0, 0, 0, 0.15);\n",
              "      filter: drop-shadow(0px 1px 2px rgba(0, 0, 0, 0.3));\n",
              "      fill: #FFFFFF;\n",
              "    }\n",
              "  </style>\n",
              "\n",
              "    <script>\n",
              "      const buttonEl =\n",
              "        document.querySelector('#df-01062811-e2ba-4044-807c-60c011c7bdaa button.colab-df-convert');\n",
              "      buttonEl.style.display =\n",
              "        google.colab.kernel.accessAllowed ? 'block' : 'none';\n",
              "\n",
              "      async function convertToInteractive(key) {\n",
              "        const element = document.querySelector('#df-01062811-e2ba-4044-807c-60c011c7bdaa');\n",
              "        const dataTable =\n",
              "          await google.colab.kernel.invokeFunction('convertToInteractive',\n",
              "                                                    [key], {});\n",
              "        if (!dataTable) return;\n",
              "\n",
              "        const docLinkHtml = 'Like what you see? Visit the ' +\n",
              "          '<a target=\"_blank\" href=https://colab.research.google.com/notebooks/data_table.ipynb>data table notebook</a>'\n",
              "          + ' to learn more about interactive tables.';\n",
              "        element.innerHTML = '';\n",
              "        dataTable['output_type'] = 'display_data';\n",
              "        await google.colab.output.renderOutput(dataTable, element);\n",
              "        const docLink = document.createElement('div');\n",
              "        docLink.innerHTML = docLinkHtml;\n",
              "        element.appendChild(docLink);\n",
              "      }\n",
              "    </script>\n",
              "  </div>\n",
              "\n",
              "\n",
              "    <div id=\"df-b1d34fd3-bfd4-474b-8e36-89c77d7c3b77\">\n",
              "      <button class=\"colab-df-quickchart\" onclick=\"quickchart('df-b1d34fd3-bfd4-474b-8e36-89c77d7c3b77')\"\n",
              "                title=\"Suggest charts\"\n",
              "                style=\"display:none;\">\n",
              "\n",
              "<svg xmlns=\"http://www.w3.org/2000/svg\" height=\"24px\"viewBox=\"0 0 24 24\"\n",
              "     width=\"24px\">\n",
              "    <g>\n",
              "        <path d=\"M19 3H5c-1.1 0-2 .9-2 2v14c0 1.1.9 2 2 2h14c1.1 0 2-.9 2-2V5c0-1.1-.9-2-2-2zM9 17H7v-7h2v7zm4 0h-2V7h2v10zm4 0h-2v-4h2v4z\"/>\n",
              "    </g>\n",
              "</svg>\n",
              "      </button>\n",
              "\n",
              "<style>\n",
              "  .colab-df-quickchart {\n",
              "      --bg-color: #E8F0FE;\n",
              "      --fill-color: #1967D2;\n",
              "      --hover-bg-color: #E2EBFA;\n",
              "      --hover-fill-color: #174EA6;\n",
              "      --disabled-fill-color: #AAA;\n",
              "      --disabled-bg-color: #DDD;\n",
              "  }\n",
              "\n",
              "  [theme=dark] .colab-df-quickchart {\n",
              "      --bg-color: #3B4455;\n",
              "      --fill-color: #D2E3FC;\n",
              "      --hover-bg-color: #434B5C;\n",
              "      --hover-fill-color: #FFFFFF;\n",
              "      --disabled-bg-color: #3B4455;\n",
              "      --disabled-fill-color: #666;\n",
              "  }\n",
              "\n",
              "  .colab-df-quickchart {\n",
              "    background-color: var(--bg-color);\n",
              "    border: none;\n",
              "    border-radius: 50%;\n",
              "    cursor: pointer;\n",
              "    display: none;\n",
              "    fill: var(--fill-color);\n",
              "    height: 32px;\n",
              "    padding: 0;\n",
              "    width: 32px;\n",
              "  }\n",
              "\n",
              "  .colab-df-quickchart:hover {\n",
              "    background-color: var(--hover-bg-color);\n",
              "    box-shadow: 0 1px 2px rgba(60, 64, 67, 0.3), 0 1px 3px 1px rgba(60, 64, 67, 0.15);\n",
              "    fill: var(--button-hover-fill-color);\n",
              "  }\n",
              "\n",
              "  .colab-df-quickchart-complete:disabled,\n",
              "  .colab-df-quickchart-complete:disabled:hover {\n",
              "    background-color: var(--disabled-bg-color);\n",
              "    fill: var(--disabled-fill-color);\n",
              "    box-shadow: none;\n",
              "  }\n",
              "\n",
              "  .colab-df-spinner {\n",
              "    border: 2px solid var(--fill-color);\n",
              "    border-color: transparent;\n",
              "    border-bottom-color: var(--fill-color);\n",
              "    animation:\n",
              "      spin 1s steps(1) infinite;\n",
              "  }\n",
              "\n",
              "  @keyframes spin {\n",
              "    0% {\n",
              "      border-color: transparent;\n",
              "      border-bottom-color: var(--fill-color);\n",
              "      border-left-color: var(--fill-color);\n",
              "    }\n",
              "    20% {\n",
              "      border-color: transparent;\n",
              "      border-left-color: var(--fill-color);\n",
              "      border-top-color: var(--fill-color);\n",
              "    }\n",
              "    30% {\n",
              "      border-color: transparent;\n",
              "      border-left-color: var(--fill-color);\n",
              "      border-top-color: var(--fill-color);\n",
              "      border-right-color: var(--fill-color);\n",
              "    }\n",
              "    40% {\n",
              "      border-color: transparent;\n",
              "      border-right-color: var(--fill-color);\n",
              "      border-top-color: var(--fill-color);\n",
              "    }\n",
              "    60% {\n",
              "      border-color: transparent;\n",
              "      border-right-color: var(--fill-color);\n",
              "    }\n",
              "    80% {\n",
              "      border-color: transparent;\n",
              "      border-right-color: var(--fill-color);\n",
              "      border-bottom-color: var(--fill-color);\n",
              "    }\n",
              "    90% {\n",
              "      border-color: transparent;\n",
              "      border-bottom-color: var(--fill-color);\n",
              "    }\n",
              "  }\n",
              "</style>\n",
              "\n",
              "      <script>\n",
              "        async function quickchart(key) {\n",
              "          const quickchartButtonEl =\n",
              "            document.querySelector('#' + key + ' button');\n",
              "          quickchartButtonEl.disabled = true;  // To prevent multiple clicks.\n",
              "          quickchartButtonEl.classList.add('colab-df-spinner');\n",
              "          try {\n",
              "            const charts = await google.colab.kernel.invokeFunction(\n",
              "                'suggestCharts', [key], {});\n",
              "          } catch (error) {\n",
              "            console.error('Error during call to suggestCharts:', error);\n",
              "          }\n",
              "          quickchartButtonEl.classList.remove('colab-df-spinner');\n",
              "          quickchartButtonEl.classList.add('colab-df-quickchart-complete');\n",
              "        }\n",
              "        (() => {\n",
              "          let quickchartButtonEl =\n",
              "            document.querySelector('#df-b1d34fd3-bfd4-474b-8e36-89c77d7c3b77 button');\n",
              "          quickchartButtonEl.style.display =\n",
              "            google.colab.kernel.accessAllowed ? 'block' : 'none';\n",
              "        })();\n",
              "      </script>\n",
              "    </div>\n",
              "\n",
              "    </div>\n",
              "  </div>\n"
            ],
            "application/vnd.google.colaboratory.intrinsic+json": {
              "type": "dataframe",
              "variable_name": "df",
              "summary": "{\n  \"name\": \"df\",\n  \"rows\": 12294,\n  \"fields\": [\n    {\n      \"column\": \"anime_id\",\n      \"properties\": {\n        \"dtype\": \"number\",\n        \"std\": 11455,\n        \"min\": 1,\n        \"max\": 34527,\n        \"num_unique_values\": 12294,\n        \"samples\": [\n          17209,\n          173,\n          3616\n        ],\n        \"semantic_type\": \"\",\n        \"description\": \"\"\n      }\n    },\n    {\n      \"column\": \"name\",\n      \"properties\": {\n        \"dtype\": \"string\",\n        \"num_unique_values\": 12292,\n        \"samples\": [\n          \"Nils no Fushigi na Tabi (Movie)\",\n          \"Tactics\",\n          \"Kamen no Maid Guy\"\n        ],\n        \"semantic_type\": \"\",\n        \"description\": \"\"\n      }\n    },\n    {\n      \"column\": \"genre\",\n      \"properties\": {\n        \"dtype\": \"category\",\n        \"num_unique_values\": 3264,\n        \"samples\": [\n          \"Horror, Supernatural\",\n          \"Action, Adventure, Comedy, Demons, Fantasy, Magic, Romance, Shounen, Supernatural\",\n          \"Action, Comedy, Harem, Parody, Romance\"\n        ],\n        \"semantic_type\": \"\",\n        \"description\": \"\"\n      }\n    },\n    {\n      \"column\": \"type\",\n      \"properties\": {\n        \"dtype\": \"category\",\n        \"num_unique_values\": 6,\n        \"samples\": [\n          \"Movie\",\n          \"TV\",\n          \"ONA\"\n        ],\n        \"semantic_type\": \"\",\n        \"description\": \"\"\n      }\n    },\n    {\n      \"column\": \"episodes\",\n      \"properties\": {\n        \"dtype\": \"category\",\n        \"num_unique_values\": 187,\n        \"samples\": [\n          \"141\",\n          \"54\",\n          \"52\"\n        ],\n        \"semantic_type\": \"\",\n        \"description\": \"\"\n      }\n    },\n    {\n      \"column\": \"rating\",\n      \"properties\": {\n        \"dtype\": \"number\",\n        \"std\": 1.0267463068980598,\n        \"min\": 1.67,\n        \"max\": 10.0,\n        \"num_unique_values\": 598,\n        \"samples\": [\n          7.87,\n          6.11,\n          4.1\n        ],\n        \"semantic_type\": \"\",\n        \"description\": \"\"\n      }\n    },\n    {\n      \"column\": \"members\",\n      \"properties\": {\n        \"dtype\": \"number\",\n        \"std\": 54820,\n        \"min\": 5,\n        \"max\": 1013917,\n        \"num_unique_values\": 6706,\n        \"samples\": [\n          170754,\n          1515,\n          66376\n        ],\n        \"semantic_type\": \"\",\n        \"description\": \"\"\n      }\n    }\n  ]\n}"
            }
          },
          "metadata": {},
          "execution_count": 74
        }
      ]
    },
    {
      "cell_type": "code",
      "source": [
        "df.info()"
      ],
      "metadata": {
        "colab": {
          "base_uri": "https://localhost:8080/"
        },
        "id": "bGx-RaIJY6jL",
        "outputId": "7dae3827-e5c8-4efa-ec9f-4088d784e4c9"
      },
      "execution_count": null,
      "outputs": [
        {
          "output_type": "stream",
          "name": "stdout",
          "text": [
            "<class 'pandas.core.frame.DataFrame'>\n",
            "RangeIndex: 12294 entries, 0 to 12293\n",
            "Data columns (total 7 columns):\n",
            " #   Column    Non-Null Count  Dtype  \n",
            "---  ------    --------------  -----  \n",
            " 0   anime_id  12294 non-null  int64  \n",
            " 1   name      12294 non-null  object \n",
            " 2   genre     12232 non-null  object \n",
            " 3   type      12269 non-null  object \n",
            " 4   episodes  12294 non-null  object \n",
            " 5   rating    12064 non-null  float64\n",
            " 6   members   12294 non-null  int64  \n",
            "dtypes: float64(1), int64(2), object(4)\n",
            "memory usage: 672.5+ KB\n"
          ]
        }
      ]
    },
    {
      "cell_type": "markdown",
      "source": [
        "as we see there ar missing values so we will fill the missing values with mean for numeric column and unknown for categorical"
      ],
      "metadata": {
        "id": "0phcJoGYZsHy"
      }
    },
    {
      "cell_type": "code",
      "source": [
        "df['genre'].fillna('Unknown', inplace=True)\n",
        "df['type'].fillna('Other', inplace=True)\n",
        "df['rating'].fillna(df['rating'].mean(), inplace=True)"
      ],
      "metadata": {
        "id": "_vOOG5L-aujl"
      },
      "execution_count": null,
      "outputs": []
    },
    {
      "cell_type": "code",
      "source": [
        "# Summary statistics\n",
        "print(df.describe())\n",
        "\n",
        "# Check unique values in categorical columns\n",
        "print(df['type'].value_counts())\n",
        "print(df['genre'].value_counts().head()) # Display top few genres due to many unique values\n",
        "\n",
        "# Explore the distribution of ratings\n",
        "plt.figure(figsize=(10, 6))\n",
        "sns.histplot(df['rating'], bins=20, kde=True)\n",
        "plt.title('Distribution of Anime Ratings')\n",
        "plt.xlabel('Rating')\n",
        "plt.ylabel('Frequency')\n",
        "plt.show()\n",
        "\n",
        "# Explore the distribution of anime types\n",
        "plt.figure(figsize=(8, 5))\n",
        "sns.countplot(y='type', data=df, order = df['type'].value_counts().index)\n",
        "plt.title('Distribution of Anime Types')\n",
        "plt.xlabel('Count')\n",
        "plt.ylabel('Type')\n",
        "plt.show()"
      ],
      "metadata": {
        "colab": {
          "base_uri": "https://localhost:8080/",
          "height": 1000
        },
        "id": "k2l5RvBUbj_9",
        "outputId": "8cb92bf7-2603-44d3-9839-223c9ba534a7"
      },
      "execution_count": null,
      "outputs": [
        {
          "output_type": "stream",
          "name": "stdout",
          "text": [
            "           anime_id        rating       members\n",
            "count  12294.000000  12294.000000  1.229400e+04\n",
            "mean   14058.221653      6.473902  1.807134e+04\n",
            "std    11455.294701      1.017096  5.482068e+04\n",
            "min        1.000000      1.670000  5.000000e+00\n",
            "25%     3484.250000      5.900000  2.250000e+02\n",
            "50%    10260.500000      6.550000  1.550000e+03\n",
            "75%    24794.500000      7.170000  9.437000e+03\n",
            "max    34527.000000     10.000000  1.013917e+06\n",
            "type\n",
            "TV         3787\n",
            "OVA        3311\n",
            "Movie      2348\n",
            "Special    1676\n",
            "ONA         659\n",
            "Music       488\n",
            "Other        25\n",
            "Name: count, dtype: int64\n",
            "genre\n",
            "Hentai                   823\n",
            "Comedy                   523\n",
            "Music                    301\n",
            "Kids                     199\n",
            "Comedy, Slice of Life    179\n",
            "Name: count, dtype: int64\n"
          ]
        },
        {
          "output_type": "display_data",
          "data": {
            "text/plain": [
              "<Figure size 1000x600 with 1 Axes>"
            ],
            "image/png": "[encoded data removed]"
          },
          "metadata": {}
        },
        {
          "output_type": "display_data",
          "data": {
            "text/plain": [
              "<Figure size 800x500 with 1 Axes>"
            ],
            "image/png": "[encoded data removed]"
          },
          "metadata": {}
        }
      ]
    },
    {
      "cell_type": "markdown",
      "source": [
        "as we see there are more animes whose rating is above 6 whish tells frequency of the rating based on anime and we see the type of anime present in the data set"
      ],
      "metadata": {
        "id": "TzG2JmqWeLuz"
      }
    },
    {
      "cell_type": "markdown",
      "source": [
        "# Feature Extraction:"
      ],
      "metadata": {
        "id": "TEuLGXDzfewV"
      }
    },
    {
      "cell_type": "code",
      "source": [
        "from sklearn.preprocessing import MultiLabelBinarizer\n",
        "\n",
        "# Features for similarity: genre, type, and rating\n",
        "features = ['genre', 'type', 'rating']\n",
        "\n",
        "# 1. Genre: It's a multi-label categorical feature. Use MultiLabelBinarizer.\n",
        "# First, split the genre string into a list of genres\n",
        "df['genre_list'] = df['genre'].apply(lambda x: x.split(', '))\n",
        "\n",
        "mlb = MultiLabelBinarizer()\n",
        "genre_encoded = mlb.fit_transform(df['genre_list'])\n",
        "genre_df = pd.DataFrame(genre_encoded, columns=mlb.classes_)\n",
        "\n",
        "# 2. Type: It's a categorical feature. Use one-hot encoding.\n",
        "type_encoded = pd.get_dummies(df['type'], prefix='type')\n",
        "\n",
        "# 3. Rating: It's a numerical feature. Normalization might be useful.\n",
        "# Useing Min-Max scaling to scale rating between 0 and 1.\n",
        "from sklearn.preprocessing import MinMaxScaler\n",
        "scaler = MinMaxScaler()\n",
        "df['rating_scaled'] = scaler.fit_transform(df[['rating']])\n",
        "\n",
        "# Combine the processed features\n",
        "# We'll use genre_df, type_encoded, and the scaled rating.\n",
        "# Ensure indices align before concatenating.\n",
        "df_processed = pd.concat([genre_df, type_encoded, df['rating_scaled']], axis=1)\n",
        "\n",
        "print(\"Processed features DataFrame shape:\", df_processed.shape)\n",
        "print(df_processed.head())\n"
      ],
      "metadata": {
        "colab": {
          "base_uri": "https://localhost:8080/"
        },
        "id": "_QMbY8eTjM9j",
        "outputId": "14c17caa-f5fc-497b-d2fc-1f5b14c39f60"
      },
      "execution_count": null,
      "outputs": [
        {
          "output_type": "stream",
          "name": "stdout",
          "text": [
            "Processed features DataFrame shape: (12294, 52)\n",
            "   Action  Adventure  Cars  Comedy  Dementia  Demons  Drama  Ecchi  Fantasy  \\\n",
            "0       0          0     0       0         0       0      1      0        0   \n",
            "1       1          1     0       0         0       0      1      0        1   \n",
            "2       1          0     0       1         0       0      0      0        0   \n",
            "3       0          0     0       0         0       0      0      0        0   \n",
            "4       1          0     0       1         0       0      0      0        0   \n",
            "\n",
            "   Game  ...  Yaoi  Yuri  type_Movie  type_Music  type_ONA  type_OVA  \\\n",
            "0     0  ...     0     0        True       False     False     False   \n",
            "1     0  ...     0     0       False       False     False     False   \n",
            "2     0  ...     0     0       False       False     False     False   \n",
            "3     0  ...     0     0       False       False     False     False   \n",
            "4     0  ...     0     0       False       False     False     False   \n",
            "\n",
            "   type_Other  type_Special  type_TV  rating_scaled  \n",
            "0       False         False    False       0.924370  \n",
            "1       False         False     True       0.911164  \n",
            "2       False         False     True       0.909964  \n",
            "3       False         False     True       0.900360  \n",
            "4       False         False     True       0.899160  \n",
            "\n",
            "[5 rows x 52 columns]\n"
          ]
        }
      ]
    },
    {
      "cell_type": "markdown",
      "source": [
        "# Recommendation System:"
      ],
      "metadata": {
        "id": "5mNx5csYO0pM"
      }
    },
    {
      "cell_type": "code",
      "source": [
        "from sklearn.metrics.pairwise import cosine_similarity\n",
        "\n",
        "def recommend_anime(target_anime_name, df, df_processed, threshold=0.5, top_n=10):\n",
        "  # Find the index of the target anime\n",
        "  target_index = df[df['name'] == target_anime_name].index\n",
        "\n",
        "  if len(target_index) == 0:\n",
        "    print(f\"Anime '{target_anime_name}' not found in the dataset.\")\n",
        "    return pd.DataFrame()\n",
        "\n",
        "  target_index = target_index[0]\n",
        "\n",
        "  # Calculate cosine similarity between the target anime and all other anime\n",
        "  similarity_scores = cosine_similarity(df_processed.iloc[[target_index]], df_processed)\n",
        "\n",
        "  # Get the similarity scores for the target anime\n",
        "  similarity_scores = similarity_scores[0]\n",
        "\n",
        "  # Get the indices of anime sorted by similarity score in descending order\n",
        "  similar_anime_indices = similarity_scores.argsort()[::-1]\n",
        "\n",
        "  # Filter out the target anime itself\n",
        "  similar_anime_indices = similar_anime_indices[similar_anime_indices != target_index]\n",
        "\n",
        "  # Filter based on the similarity threshold\n",
        "  recommended_anime_indices = [i for i in similar_anime_indices if similarity_scores[i] >= threshold]\n",
        "\n",
        "  # Get the top N recommended anime\n",
        "  recommended_anime_indices = recommended_anime_indices[:top_n]\n",
        "\n",
        "  # Return the recommended anime details\n",
        "  return df.iloc[recommended_anime_indices][['name', 'genre', 'type', 'rating']]\n",
        "\n",
        "#so i have created user define function now we will recommend based on tresh hold value\n",
        "# Example :\n",
        "target_anime = 'Death Note'\n",
        "threshold_value = 0.7\n",
        "recommendations = recommend_anime(target_anime, df, df_processed, threshold=threshold_value)\n",
        "\n",
        "print(f\"\\nRecommended anime for '{target_anime}' with similarity threshold {threshold_value}:\")\n",
        "print(recommendations)\n",
        "\n",
        "# Experiment with a different threshold\n",
        "threshold_value_lower = 0.5\n",
        "recommendations_lower_threshold = recommend_anime(target_anime, df, df_processed, threshold=threshold_value_lower)\n",
        "\n",
        "print(f\"\\nRecommended anime for '{target_anime}' with similarity threshold {threshold_value_lower}:\")\n",
        "print(recommendations_lower_threshold)"
      ],
      "metadata": {
        "colab": {
          "base_uri": "https://localhost:8080/"
        },
        "id": "XvkjQYnwOwrt",
        "outputId": "f3cc3fa0-8643-4bec-89a4-00cbc6376fac"
      },
      "execution_count": null,
      "outputs": [
        {
          "output_type": "stream",
          "name": "stdout",
          "text": [
            "\n",
            "Recommended anime for 'Death Note' with similarity threshold 0.7:\n",
            "                                   name  \\\n",
            "981                     Mousou Dairinin   \n",
            "144       Higurashi no Naku Koro ni Kai   \n",
            "334           Higurashi no Naku Koro ni   \n",
            "778                  Death Note Rewrite   \n",
            "833            Jigoku Shoujo Mitsuganae   \n",
            "2691  Yakushiji Ryouko no Kaiki Jikenbo   \n",
            "6323            Saint Luminous Jogakuin   \n",
            "445                    Mirai Nikki (TV)   \n",
            "49              Boku dake ga Inai Machi   \n",
            "436            Jigoku Shoujo Futakomori   \n",
            "\n",
            "                                                  genre     type  rating  \n",
            "981   Drama, Mystery, Police, Psychological, Superna...       TV    7.74  \n",
            "144      Mystery, Psychological, Supernatural, Thriller       TV    8.41  \n",
            "334   Horror, Mystery, Psychological, Supernatural, ...       TV    8.17  \n",
            "778   Mystery, Police, Psychological, Supernatural, ...  Special    7.84  \n",
            "833                Mystery, Psychological, Supernatural       TV    7.81  \n",
            "2691                      Mystery, Police, Supernatural       TV    7.19  \n",
            "6323               Mystery, Psychological, Supernatural       TV    6.17  \n",
            "445   Action, Mystery, Psychological, Shounen, Super...       TV    8.07  \n",
            "49         Mystery, Psychological, Seinen, Supernatural       TV    8.65  \n",
            "436        Horror, Mystery, Psychological, Supernatural       TV    8.08  \n",
            "\n",
            "Recommended anime for 'Death Note' with similarity threshold 0.5:\n",
            "                                   name  \\\n",
            "981                     Mousou Dairinin   \n",
            "144       Higurashi no Naku Koro ni Kai   \n",
            "334           Higurashi no Naku Koro ni   \n",
            "778                  Death Note Rewrite   \n",
            "833            Jigoku Shoujo Mitsuganae   \n",
            "2691  Yakushiji Ryouko no Kaiki Jikenbo   \n",
            "6323            Saint Luminous Jogakuin   \n",
            "445                    Mirai Nikki (TV)   \n",
            "49              Boku dake ga Inai Machi   \n",
            "436            Jigoku Shoujo Futakomori   \n",
            "\n",
            "                                                  genre     type  rating  \n",
            "981   Drama, Mystery, Police, Psychological, Superna...       TV    7.74  \n",
            "144      Mystery, Psychological, Supernatural, Thriller       TV    8.41  \n",
            "334   Horror, Mystery, Psychological, Supernatural, ...       TV    8.17  \n",
            "778   Mystery, Police, Psychological, Supernatural, ...  Special    7.84  \n",
            "833                Mystery, Psychological, Supernatural       TV    7.81  \n",
            "2691                      Mystery, Police, Supernatural       TV    7.19  \n",
            "6323               Mystery, Psychological, Supernatural       TV    6.17  \n",
            "445   Action, Mystery, Psychological, Shounen, Super...       TV    8.07  \n",
            "49         Mystery, Psychological, Seinen, Supernatural       TV    8.65  \n",
            "436        Horror, Mystery, Psychological, Supernatural       TV    8.08  \n"
          ]
        }
      ]
    },
    {
      "cell_type": "markdown",
      "source": [
        "# Evaluation:"
      ],
      "metadata": {
        "id": "7t8jBNlXSO4t"
      }
    },
    {
      "cell_type": "code",
      "source": [
        "from sklearn.model_selection import train_test_split\n",
        "\n",
        "X = df_processed\n",
        "\n",
        "X_train, X_test = train_test_split(X, test_size=0.2, random_state=42)\n",
        "\n",
        "print(\"Shape of the original features dataset:\", X.shape)\n",
        "print(\"Shape of the training features dataset:\", X_train.shape)\n",
        "print(\"Shape of the testing features dataset:\", X_test.shape)"
      ],
      "metadata": {
        "colab": {
          "base_uri": "https://localhost:8080/"
        },
        "id": "Rig4afaeSX-m",
        "outputId": "f6d9d72c-2302-42bd-dec7-6b61f70a5481"
      },
      "execution_count": null,
      "outputs": [
        {
          "output_type": "stream",
          "name": "stdout",
          "text": [
            "Shape of the original features dataset: (12294, 52)\n",
            "Shape of the training features dataset: (9835, 52)\n",
            "Shape of the testing features dataset: (2459, 52)\n"
          ]
        }
      ]
    },
    {
      "cell_type": "code",
      "source": [
        "from sklearn.metrics import precision_score, recall_score, f1_score\n",
        "\n",
        "def evaluate_recommendations(target_anime_name, df, df_processed, rec_threshold=0.7, rel_threshold=0.9, top_n=10):\n",
        "    target_index = df[df['name'] == target_anime_name].index\n",
        "\n",
        "    if not target_index.any():\n",
        "        return {\"precision\": 0, \"recall\": 0, \"f1_score\": 0}\n",
        "\n",
        "    target_index = target_index[0]\n",
        "    similarity_scores = cosine_similarity(df_processed.iloc[[target_index]], df_processed)[0]\n",
        "    relevant_indices = [i for i, score in enumerate(similarity_scores) if score >= rel_threshold and i != target_index]\n",
        "\n",
        "    recommended_indices = recommend_anime(target_anime_name, df, df_processed, threshold=rec_threshold, top_n=len(df)).index[:top_n]\n",
        "    all_indices = set(range(len(df))) - {target_index}\n",
        "\n",
        "    y_true = [1 if i in relevant_indices else 0 for i in all_indices]\n",
        "    y_pred = [1 if i in recommended_indices else 0 for i in all_indices]\n",
        "\n",
        "    return {\"precision\": precision_score(y_true, y_pred), \"recall\": recall_score(y_true, y_pred), \"f1_score\": f1_score(y_true, y_pred)}\n",
        "\n",
        "# Example on death note\n",
        "target_anime = 'Death Note'\n",
        "evaluation = evaluate_recommendations(target_anime, df, df_processed, rec_threshold=0.6, rel_threshold=0.75, top_n=13)\n",
        "print(evaluation)"
      ],
      "metadata": {
        "colab": {
          "base_uri": "https://localhost:8080/"
        },
        "id": "O6ZJyAPCf5DT",
        "outputId": "e89e4a91-ae70-4e10-f63f-ed293932be7b"
      },
      "execution_count": null,
      "outputs": [
        {
          "output_type": "stream",
          "name": "stdout",
          "text": [
            "{'precision': 1.0, 'recall': 0.7647058823529411, 'f1_score': 0.8666666666666667}\n"
          ]
        }
      ]
    },
    {
      "cell_type": "markdown",
      "source": [
        "- **Precision** – This measures the **accuracy** of recommendations. It tells you what proportion of the recommended items were actually relevant.\n",
        "  - Formula: **Precision = (Relevant recommended items) / (Total recommended items)**\n",
        "  - Higher precision means fewer irrelevant recommendations.\n",
        "\n",
        "- **Recall** – This measures **coverage**, showing how many of the relevant items were successfully retrieved.\n",
        "  - Formula: **Recall = (Relevant recommended items) / (Total relevant items available)**\n",
        "  - High recall means you’re capturing most of what’s relevant.\n",
        "\n",
        "- **F1-score** – This combines precision and recall into a single metric, offering a **balanced view** of the recommendation system’s effectiveness.\n",
        "  - Formula: **F1-score = 2 × (Precision × Recall) / (Precision + Recall)**\n",
        "  - A high F1-score suggests a good balance between precision and recall.\n",
        "\n"
      ],
      "metadata": {
        "id": "hGQmKDoCbmWF"
      }
    },
    {
      "cell_type": "markdown",
      "source": [
        "# Interview Questions:"
      ],
      "metadata": {
        "id": "HWTFik5zeerV"
      }
    },
    {
      "cell_type": "markdown",
      "source": [
        "**1. Can you explain the difference between user-based and item-based collaborative filtering?**\n",
        "\n",
        " **User-Based vs. Item-Based Collaborative Filtering**  \n",
        "   - **User-Based Collaborative Filtering**: Finds similar users and recommends items based on shared preferences. If two users have rated or interacted with similar items in the past, one user might enjoy what the other has liked.\n",
        "   - **Item-Based Collaborative Filtering**: Focuses on the relationship between items rather than users. If two items are frequently liked or bought together, recommending one to users who liked the other makes sense.\n",
        "\n",
        "Item-based filtering is often more scalable since item relationships are relatively stable, while user-based filtering can struggle when there are many users with sparse interactions.\n",
        "\n"
      ],
      "metadata": {
        "id": "EEgfMHgXgVLE"
      }
    },
    {
      "cell_type": "markdown",
      "source": [
        "**2. What is collaborative filtering, and how does it work?**\n",
        "\n",
        "Collaborative filtering is a technique used in recommendation systems to predict a user's interests based on patterns observed in other users. It operates under the assumption that if two users share similar preferences, one might enjoy items liked by the other.\n",
        "\n",
        "### How It Works:\n",
        "1. **Data Collection** – Users interact with items (e.g., rating movies, purchasing books).\n",
        "2. **Similarity Calculation** – The system finds relationships either between users (User-Based Filtering) or items (Item-Based Filtering).\n",
        "3. **Prediction & Recommendation** – Items are suggested based on past behaviors of similar users or items frequently paired together.\n",
        "\n",
        "For example, if you like \"Death Note\" and many others who like \"Death Note\" also enjoy \"Code Geass,\" you might get a recommendation for \"Code Geass.\"\n"
      ],
      "metadata": {
        "id": "JB4OP7gJhA1z"
      }
    }
  ]
}