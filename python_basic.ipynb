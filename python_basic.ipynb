{
  "nbformat": 4,
  "nbformat_minor": 0,
  "metadata": {
    "colab": {
      "provenance": []
    },
    "kernelspec": {
      "name": "python3",
      "display_name": "Python 3"
    },
    "language_info": {
      "name": "python"
    }
  },
  "cells": [
    {
      "cell_type": "markdown",
      "source": [
        "# Exercise 1: Prime Numbers\n",
        "Write a Python program that checks whether a given number is prime or not. A prime number is a natural number greater than 1 that has no positive divisors other than 1 and itself.\n"
      ],
      "metadata": {
        "id": "8zPTMLF9PERy"
      }
    },
    {
      "cell_type": "code",
      "source": [
        "def is_prime(number):\n",
        "    if number <= 1: # 1 is not prime so by default we are making it false\n",
        "        return False\n",
        "    for i in range(2, number): # range is  from 2 to the user enter number - 1\n",
        "        if number % i == 0: #if number % i == 0 then result will be false not then true\n",
        "            return False\n",
        "    return True\n",
        "\n",
        "num = int(input(\"Enter a number: \"))\n",
        "if is_prime(num):\n",
        "    print(f\"{num} is a prime number.\")\n",
        "else:\n",
        "    print(f\"{num} is not a prime number.\")"
      ],
      "metadata": {
        "id": "D-zBitesPD8S",
        "colab": {
          "base_uri": "https://localhost:8080/"
        },
        "outputId": "246c16ab-98a7-4668-8a2e-df6b3c06759f"
      },
      "execution_count": 40,
      "outputs": [
        {
          "output_type": "stream",
          "name": "stdout",
          "text": [
            "Enter a number: 9\n",
            "9 is not a prime number.\n"
          ]
        }
      ]
    },
    {
      "cell_type": "markdown",
      "source": [
        "the above code is used to display that the user enter number is prime or not"
      ],
      "metadata": {
        "id": "iuQQwzuHYK3d"
      }
    },
    {
      "cell_type": "markdown",
      "source": [
        "# Exercise 2: Product of Random Numbers\n",
        "Develop a Python program that generates two random numbers and asks the user to enter the product of these numbers. The program should then check if the user's answer is correct and display an appropriate message.\n"
      ],
      "metadata": {
        "id": "lS1ep4rQcx1A"
      }
    },
    {
      "cell_type": "code",
      "source": [
        "import numpy as np\n",
        "import random\n",
        "num1 = random.randint(1, 100)\n",
        "num2 = random.randint(1, 100)\n",
        "\n",
        "# Calculate the product of the two numbers\n",
        "product = num1 * num2\n",
        "\n",
        "# Ask the user to enter the product of the numbers\n",
        "user_answer = int(input(f\"What is the product of {num1} and {num2}? \"))\n",
        "\n",
        "# Check if the user's answer is correct\n",
        "if user_answer == product:\n",
        "    print(\"Correct! Well done.\")\n",
        "else:\n",
        "    print(f\"Sorry, the correct answer is {product}. Try again next time.\")"
      ],
      "metadata": {
        "colab": {
          "base_uri": "https://localhost:8080/"
        },
        "id": "6eK3FgPHeqCG",
        "outputId": "297594b7-c85d-42a7-94dc-ca462174cd30"
      },
      "execution_count": 3,
      "outputs": [
        {
          "output_type": "stream",
          "name": "stdout",
          "text": [
            "What is the product of 81 and 5? 405\n",
            "Correct! Well done.\n"
          ]
        }
      ]
    },
    {
      "cell_type": "markdown",
      "source": [
        "the above program is uesd to check wether the product of two numbers answer is correcr or not which is entered by user"
      ],
      "metadata": {
        "id": "iMUHq1HahsKQ"
      }
    },
    {
      "cell_type": "markdown",
      "source": [
        "# Exercise 3: Squares of Even/Odd Numbers\n",
        "Create a Python script that prints the squares of all even or odd numbers within the range of 100 to 200. Choose either even or odd numbers and document your choice in the code.\n"
      ],
      "metadata": {
        "id": "zL13YCfLiE5x"
      }
    },
    {
      "cell_type": "code",
      "source": [
        "# List of numbers from 100 to 200 and only even numbers\n",
        "numbers = list(range(100, 201,2))\n",
        "\n",
        "# Calculate squares using list comprehension\n",
        "squares = [num ** 2 for num in numbers]\n",
        "\n",
        "# Use zip to pair each number with its square\n",
        "number_square_pairs = list(zip(numbers, squares))\n",
        "\n",
        "# Print the pairs\n",
        "for number, square in number_square_pairs:\n",
        "    print(f\"{number}: {square}\")"
      ],
      "metadata": {
        "colab": {
          "base_uri": "https://localhost:8080/"
        },
        "id": "yE2zIdMhjI9H",
        "outputId": "d6b34c51-92b6-438a-d773-c1535d60fdba"
      },
      "execution_count": 18,
      "outputs": [
        {
          "output_type": "stream",
          "name": "stdout",
          "text": [
            "100: 10000\n",
            "102: 10404\n",
            "104: 10816\n",
            "106: 11236\n",
            "108: 11664\n",
            "110: 12100\n",
            "112: 12544\n",
            "114: 12996\n",
            "116: 13456\n",
            "118: 13924\n",
            "120: 14400\n",
            "122: 14884\n",
            "124: 15376\n",
            "126: 15876\n",
            "128: 16384\n",
            "130: 16900\n",
            "132: 17424\n",
            "134: 17956\n",
            "136: 18496\n",
            "138: 19044\n",
            "140: 19600\n",
            "142: 20164\n",
            "144: 20736\n",
            "146: 21316\n",
            "148: 21904\n",
            "150: 22500\n",
            "152: 23104\n",
            "154: 23716\n",
            "156: 24336\n",
            "158: 24964\n",
            "160: 25600\n",
            "162: 26244\n",
            "164: 26896\n",
            "166: 27556\n",
            "168: 28224\n",
            "170: 28900\n",
            "172: 29584\n",
            "174: 30276\n",
            "176: 30976\n",
            "178: 31684\n",
            "180: 32400\n",
            "182: 33124\n",
            "184: 33856\n",
            "186: 34596\n",
            "188: 35344\n",
            "190: 36100\n",
            "192: 36864\n",
            "194: 37636\n",
            "196: 38416\n",
            "198: 39204\n",
            "200: 40000\n"
          ]
        }
      ]
    },
    {
      "cell_type": "markdown",
      "source": [
        "so i have used the zip method to pair every single even number with its square value and i have stored all values in list only to print even numbers i have used range parameter\n",
        "\n"
      ],
      "metadata": {
        "id": "4iANHxB1oBbS"
      }
    },
    {
      "cell_type": "markdown",
      "source": [
        "# Exercise 4: Word counter\n",
        "write a program to count the number of words in a given text.\n",
        "example:\n",
        "input_text = \"This is a sample text. This text will be used to demonstrate the word counter.\"\n",
        "Expected output:\n",
        "'This': 2\n",
        "'is': 1\n",
        "'a': 1\n",
        "'sample': 1\n",
        "'text.': 1\n"
      ],
      "metadata": {
        "id": "Kqd-7dGjpHvY"
      }
    },
    {
      "cell_type": "code",
      "source": [
        "def count_words(text):\n",
        "    # Split the text into words\n",
        "    words = text.split()\n",
        "\n",
        "    # Create a dictionary to store word counts\n",
        "    word_counts = {}\n",
        "\n",
        "    # Count the occurrences of each word\n",
        "    for word in words:\n",
        "        if word in word_counts:\n",
        "            word_counts[word] += 1\n",
        "        else:\n",
        "            word_counts[word] = 1\n",
        "\n",
        "    return counts\n",
        "# Example input text\n",
        "input_text = \"Fraud prevention encompasses proactive measures that deter and prevent frauds before they occur. It’s a broad spectrum of strategies and solutions designed to mitigate risk, safeguard assets, and ensure the prevention of fraud. Whether it’s online fraud prevention or traditional scams, effective prevention tactics minimize vulnerabilities and keep your business secure.\"\n",
        "\n",
        "# Get the word counts\n",
        "counts = count_words(input_text)\n",
        "\n",
        "# Print the word counts\n",
        "for word, count in counts.items():\n",
        "    print(f\"{word} {count}\")"
      ],
      "metadata": {
        "colab": {
          "base_uri": "https://localhost:8080/"
        },
        "id": "kZDuM7m9pStz",
        "outputId": "e769e4c0-b80e-4436-a465-40290fb3adc0"
      },
      "execution_count": 21,
      "outputs": [
        {
          "output_type": "stream",
          "name": "stdout",
          "text": [
            "Fraud 1\n",
            "prevention 4\n",
            "encompasses 1\n",
            "proactive 1\n",
            "measures 1\n",
            "that 1\n",
            "deter 1\n",
            "and 4\n",
            "prevent 1\n",
            "frauds 1\n",
            "before 1\n",
            "they 1\n",
            "occur. 1\n",
            "It’s 1\n",
            "a 1\n",
            "broad 1\n",
            "spectrum 1\n",
            "of 2\n",
            "strategies 1\n",
            "solutions 1\n",
            "designed 1\n",
            "to 1\n",
            "mitigate 1\n",
            "risk, 1\n",
            "safeguard 1\n",
            "assets, 1\n",
            "ensure 1\n",
            "the 1\n",
            "fraud. 1\n",
            "Whether 1\n",
            "it’s 1\n",
            "online 1\n",
            "fraud 1\n",
            "or 1\n",
            "traditional 1\n",
            "scams, 1\n",
            "effective 1\n",
            "tactics 1\n",
            "minimize 1\n",
            "vulnerabilities 1\n",
            "keep 1\n",
            "your 1\n",
            "business 1\n",
            "secure. 1\n"
          ]
        }
      ]
    },
    {
      "cell_type": "markdown",
      "source": [
        "in above program i have used split function to seprate words from text and print the words and the value how many times it occured in the passage"
      ],
      "metadata": {
        "id": "zKFBBQ7grz1k"
      }
    },
    {
      "cell_type": "markdown",
      "source": [
        "# Exercise 5: Check for Palindrome\n",
        "Write a Python function called is_palindrome that takes a string as input and returns True if the string is a palindrome, and False otherwise. A palindrome is a word, phrase, number, or other sequence of characters that reads the same forward and backward, ignoring spaces, punctuation, and capitalization.\n",
        "Example:\n",
        "Input: \"racecar\"\n",
        "Expected Output: True\n"
      ],
      "metadata": {
        "id": "XU0uPEWrtGLD"
      }
    },
    {
      "cell_type": "code",
      "source": [
        "import re #It's used here to remove unwanted characters from the input string.\n",
        "\n",
        "def is_palindrome(s):\n",
        "    # Remove spaces, punctuation, and convert to lowercase\n",
        "    cleaned_string = re.sub(r'[^A-Za-z0-9]', '', s).lower()\n",
        "\n",
        "    # Check if the cleaned string reads the same forward and backward\n",
        "    return cleaned_string == cleaned_string[::-1]\n",
        "\n",
        "# Example usage:\n",
        "input_string = \"race car\"\n",
        "print(is_palindrome(input_string))"
      ],
      "metadata": {
        "colab": {
          "base_uri": "https://localhost:8080/"
        },
        "id": "elS56R1jtTHh",
        "outputId": "5bbd5c26-aa86-4143-a79c-0cd7797d787c"
      },
      "execution_count": 29,
      "outputs": [
        {
          "output_type": "stream",
          "name": "stdout",
          "text": [
            "True\n"
          ]
        }
      ]
    },
    {
      "cell_type": "markdown",
      "source": [
        "re module is imported to remove un wanted characters from a string"
      ],
      "metadata": {
        "id": "eW3QpAlIut7I"
      }
    }
  ]
}